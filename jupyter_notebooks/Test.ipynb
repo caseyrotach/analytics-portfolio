{
  "nbformat": 4,
  "nbformat_minor": 0,
  "metadata": {
    "colab": {
      "provenance": [],
      "authorship_tag": "ABX9TyOJyusR5u7XMcUJdcy9E8Th",
      "include_colab_link": true
    },
    "kernelspec": {
      "name": "python3",
      "display_name": "Python 3"
    },
    "language_info": {
      "name": "python"
    }
  },
  "cells": [
    {
      "cell_type": "markdown",
      "metadata": {
        "id": "view-in-github",
        "colab_type": "text"
      },
      "source": [
        "<a href=\"https://colab.research.google.com/github/caseyrotach/analytics-portfolio/blob/main/jupyter_notebooks/Test.ipynb\" target=\"_parent\"><img src=\"https://colab.research.google.com/assets/colab-badge.svg\" alt=\"Open In Colab\"/></a>"
      ]
    },
    {
      "cell_type": "code",
      "execution_count": null,
      "metadata": {
        "colab": {
          "base_uri": "https://localhost:8080/"
        },
        "id": "g8VgQINowltI",
        "outputId": "5e2e0a50-0d03-4b9c-8b95-8901a4203029"
      },
      "outputs": [
        {
          "output_type": "stream",
          "name": "stdout",
          "text": [
            "Reading package lists... Done\n",
            "Building dependency tree... Done\n",
            "Reading state information... Done\n",
            "git is already the newest version (1:2.34.1-1ubuntu1.11).\n",
            "0 upgraded, 0 newly installed, 0 to remove and 45 not upgraded.\n"
          ]
        }
      ],
      "source": [
        "! apt-get install git"
      ]
    },
    {
      "cell_type": "code",
      "source": [
        "# Cloning the repo\n",
        "!git clone https://github.com/caseyrotach/analytics-portfolio.git\n"
      ],
      "metadata": {
        "colab": {
          "base_uri": "https://localhost:8080/"
        },
        "id": "Rz53015xw5AS",
        "outputId": "2d2887e8-de53-45d2-d8cc-59086fd6354e"
      },
      "execution_count": null,
      "outputs": [
        {
          "output_type": "stream",
          "name": "stdout",
          "text": [
            "Cloning into 'analytics-portfolio'...\n",
            "remote: Enumerating objects: 14, done.\u001b[K\n",
            "remote: Counting objects: 100% (14/14), done.\u001b[K\n",
            "remote: Compressing objects: 100% (9/9), done.\u001b[K\n",
            "remote: Total 14 (delta 1), reused 8 (delta 1), pack-reused 0 (from 0)\u001b[K\n",
            "Receiving objects: 100% (14/14), 36.12 KiB | 12.04 MiB/s, done.\n",
            "Resolving deltas: 100% (1/1), done.\n"
          ]
        }
      ]
    },
    {
      "cell_type": "code",
      "source": [
        "  %cd analytics-portfolio/jupyter_notebooks/"
      ],
      "metadata": {
        "colab": {
          "base_uri": "https://localhost:8080/"
        },
        "id": "TI3vfCh5xh3t",
        "outputId": "d3d640aa-a9a0-4e2e-af78-dac9ed1f3a72"
      },
      "execution_count": null,
      "outputs": [
        {
          "output_type": "stream",
          "name": "stdout",
          "text": [
            "/content/analytics-portfolio/jupyter_notebooks/analytics-portfolio/jupyter_notebooks\n"
          ]
        }
      ]
    },
    {
      "cell_type": "code",
      "source": [
        "# Create a new python file where you will save your code\n",
        "%%writefile my_list.py\n",
        "import yfinance as yf\n",
        "stock = yf.Ticker(\"AAPL\")\n",
        "historical_data = stock.history(period=\"15mo\")\n",
        "historical_data.head(10)"
      ],
      "metadata": {
        "colab": {
          "base_uri": "https://localhost:8080/"
        },
        "id": "ye5yWeeSxUyQ",
        "outputId": "e93adf2a-fc90-4132-b34d-3aea84798b02"
      },
      "execution_count": null,
      "outputs": [
        {
          "output_type": "stream",
          "name": "stdout",
          "text": [
            "Writing my_list.py\n"
          ]
        }
      ]
    },
    {
      "cell_type": "code",
      "source": [],
      "metadata": {
        "id": "nBY0rLORJ3bO"
      },
      "execution_count": null,
      "outputs": []
    }
  ]
}